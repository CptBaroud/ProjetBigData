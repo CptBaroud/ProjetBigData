{
 "cells": [
  {
   "cell_type": "markdown",
   "source": [
    "Bonjour et bienvenue dans le test de Notebook\n",
    "\n",
    "Test d'intégration du code python dans un noteBook"
   ],
   "metadata": {
    "collapsed": false
   }
  },
  {
   "cell_type": "code",
   "execution_count": 6,
   "outputs": [
    {
     "name": "stdout",
     "output_type": "stream",
     "text": [
      "Hello world !\n"
     ]
    }
   ],
   "source": [
    "print('Hello world !')"
   ],
   "metadata": {
    "collapsed": false,
    "pycharm": {
     "name": "#%%\n"
    }
   }
  },
  {
   "cell_type": "markdown",
   "source": [
    "5 - Accès au données depuis Python\n",
    "\n",
    "\n",
    "1. Afficher le nombre de documents de la collection"
   ],
   "metadata": {
    "collapsed": false
   }
  },
  {
   "cell_type": "code",
   "execution_count": 7,
   "outputs": [
    {
     "name": "stdout",
     "output_type": "stream",
     "text": [
      "600000\n"
     ]
    },
    {
     "name": "stderr",
     "output_type": "stream",
     "text": [
      "<ipython-input-7-13ffde48470e>:7: DeprecationWarning: count is deprecated. Use Collection.count_documents instead.\n",
      "  print(collection_traffic.find().count())\n"
     ]
    }
   ],
   "source": [
    "from pymongo import MongoClient\n",
    "\n",
    "client = MongoClient('localhost', 27017)\n",
    "db = client['DataProject']\n",
    "collection_traffic = db['vehicules']\n",
    "\n",
    "print(collection_traffic.find().count())"
   ],
   "metadata": {
    "collapsed": false,
    "pycharm": {
     "name": "#%%\n"
    }
   }
  },
  {
   "cell_type": "markdown",
   "source": [
    "2. Afficher les 5 premiers passages de véhicules de la collection.\n",
    "\n"
   ],
   "metadata": {
    "collapsed": false
   }
  },
  {
   "cell_type": "code",
   "execution_count": 8,
   "outputs": [
    {
     "name": "stdout",
     "output_type": "stream",
     "text": [
      "[{'_id': ObjectId('5ed3b854380ef269922fb1d6'),\n",
      "  'nb_vehicules': 32,\n",
      "  'num_arete': 0,\n",
      "  'num_jour': 0,\n",
      "  'num_periode': 0,\n",
      "  'plage_horaire': 'm'},\n",
      " {'_id': ObjectId('5ed3b854380ef269922fb1d7'),\n",
      "  'nb_vehicules': 58,\n",
      "  'num_arete': 0,\n",
      "  'num_jour': 0,\n",
      "  'num_periode': 1,\n",
      "  'plage_horaire': 'm'},\n",
      " {'_id': ObjectId('5ed3b854380ef269922fb1d8'),\n",
      "  'nb_vehicules': 41,\n",
      "  'num_arete': 0,\n",
      "  'num_jour': 0,\n",
      "  'num_periode': 2,\n",
      "  'plage_horaire': 'm'},\n",
      " {'_id': ObjectId('5ed3b854380ef269922fb1d9'),\n",
      "  'nb_vehicules': 27,\n",
      "  'num_arete': 0,\n",
      "  'num_jour': 0,\n",
      "  'num_periode': 3,\n",
      "  'plage_horaire': 'm'},\n",
      " {'_id': ObjectId('5ed3b854380ef269922fb1da'),\n",
      "  'nb_vehicules': 15,\n",
      "  'num_arete': 0,\n",
      "  'num_jour': 0,\n",
      "  'num_periode': 4,\n",
      "  'plage_horaire': 'm'}]\n"
     ]
    }
   ],
   "source": [
    "from pymongo import MongoClient\n",
    "import pprint\n",
    "\n",
    "client = MongoClient('localhost', 27017)\n",
    "db = client['DataProject']\n",
    "collection_traffic = db['vehicules']\n",
    "\n",
    "pprint.pprint(list(collection_traffic.find()[0:5]))"
   ],
   "metadata": {
    "collapsed": false,
    "pycharm": {
     "name": "#%%\n"
    }
   }
  },
  {
   "cell_type": "markdown",
   "source": [
    "3. Insérer un document avec un numéro d’arête de 501, puis le supprimer"
   ],
   "metadata": {
    "collapsed": false
   }
  },
  {
   "cell_type": "code",
   "execution_count": 9,
   "outputs": [
    {
     "name": "stdout",
     "output_type": "stream",
     "text": [
      "{'_id': ObjectId('5ed3bd01f9fdda066f0f8dbc'), 'num_arete': 501}\n",
      "None\n"
     ]
    }
   ],
   "source": [
    "from pymongo import MongoClient\n",
    "\n",
    "client = MongoClient('localhost', 27017)\n",
    "db = client['DataProject']\n",
    "collection_traffic = db['vehicules']\n",
    "\n",
    "collection_traffic.insert_one({'num_arete': 501})\n",
    "print(collection_traffic.find_one({'num_arete': 501}))\n",
    "collection_traffic.delete_one({'num_arete': 501})\n",
    "print(collection_traffic.find_one({\"num-arete\": 501}))"
   ],
   "metadata": {
    "collapsed": false,
    "pycharm": {
     "name": "#%%\n"
    }
   }
  },
  {
   "cell_type": "markdown",
   "source": [
    "4. Afficher le nombre total de passages de véhicules par plage horaire :\n",
    "    - En utilisant une boucle for.\n",
    "    - En utilisant la fonction aggregate.\n",
    "\n",
    "En utilisant une boucle `for`"
   ],
   "metadata": {
    "collapsed": false
   }
  },
  {
   "cell_type": "code",
   "execution_count": 10,
   "outputs": [
    {
     "name": "stdout",
     "output_type": "stream",
     "text": [
      "{'m': 19720247, 's': 28191853}\n"
     ]
    }
   ],
   "source": [
    "from pymongo import MongoClient\n",
    "\n",
    "client = MongoClient('localhost', 27017)\n",
    "db = client['DataProject']\n",
    "collection_traffic = db['vehicules']\n",
    "\n",
    "vehicule_par_plage = {'m': 0, 's': 0}\n",
    "for trafic in collection_traffic.find({'$or':[{'plage_horaire':'m'},  {'plage_horaire':'s'}]}):\n",
    "    plage = trafic['plage_horaire']\n",
    "    vehicule_par_plage[plage] += trafic['nb_vehicules']\n",
    "\n",
    "print(vehicule_par_plage)"
   ],
   "metadata": {
    "collapsed": false,
    "pycharm": {
     "name": "#%%\n"
    }
   }
  },
  {
   "cell_type": "markdown",
   "source": [
    "En utilisant la fonction `AGGREGATE`"
   ],
   "metadata": {
    "collapsed": false
   }
  },
  {
   "cell_type": "code",
   "execution_count": 10,
   "outputs": [],
   "source": [
    "from pymongo import MongoClient\n",
    "import pprint\n",
    "\n",
    " #Connection a la base MongoDB\n",
    "client = MongoClient('localhost', 27017)\n",
    "db = client['DataProject']\n",
    "collection_traffic = db['vehicules']\n",
    "\n",
    "#Arguments de l'aggregate\n",
    "arg = [{'$group': {'_id': '$plage_horaire', 'vehicule_par_plage': {'$sum': '$nb_vehicules'}}}]\n",
    "\n",
    "#Affichage du resultat\n",
    "pprint.pprint(list(collection_traffic.aggregate(arg)))"
   ],
   "metadata": {
    "collapsed": false,
    "pycharm": {
     "name": "#%%\n"
    }
   }
  },
  {
   "cell_type": "markdown",
   "source": [
    "6 - Convertir les données"
   ],
   "metadata": {
    "collapsed": false
   }
  },
  {
   "cell_type": "code",
   "execution_count": null,
   "outputs": [],
   "source": [
    "from pymongo import MongoClient\n",
    "import datetime\n",
    "\n",
    "client = MongoClient('localhost', 27017)\n",
    "db = client['DataProject']\n",
    "collection_traffic = db['vehicules']\n",
    "\n",
    "if db['vehicules_stamped'].count() <= 0:\n",
    "    for trafic in collection_traffic.find():\n",
    "        h = round(trafic['num_periode'] / 60)\n",
    "        m = trafic['num_periode'] % 60\n",
    "        j = trafic['num_jour'] + 1\n",
    "\n",
    "        db['vehicules_stamped'].insert_one({'num_arete': trafic['num_arete'], 'date': datetime.datetime(2020, 1, j, h, m).strftime(\"%d/%m/%Y %Hh%Mm\"),\n",
    "                                                        'nb_vehicules': trafic['nb_vehicules']})\n",
    "else:\n",
    "    print('La base est déjà remplie')"
   ],
   "metadata": {
    "collapsed": false,
    "pycharm": {
     "name": "#%%\n"
    }
   }
  },
  {
   "cell_type": "markdown",
   "source": [
    "6.2 Validation des résultats\n",
    "\n",
    "1. Compter le nombre de resultats"
   ],
   "metadata": {
    "collapsed": false
   }
  },
  {
   "cell_type": "code",
   "execution_count": null,
   "outputs": [],
   "source": [
    "from pymongo import MongoClient\n",
    "\n",
    "client = MongoClient('localhost', 27017)\n",
    "db = client['DataProject']\n",
    "collection_stamped = db['vehicules_stamped']\n",
    "\n",
    "print(collection_stamped.count_documents({}))"
   ],
   "metadata": {
    "collapsed": false,
    "pycharm": {
     "name": "#%%\n"
    }
   }
  },
  {
   "cell_type": "markdown",
   "source": [
    "2. Afficher les dates et les heures présentes dans la nouvelle collection.\n"
   ],
   "metadata": {
    "collapsed": false
   }
  },
  {
   "cell_type": "code",
   "execution_count": null,
   "outputs": [],
   "source": [
    "from pymongo import MongoClient\n",
    "import pprint\n",
    "\n",
    "client = MongoClient('localhost', 27017)\n",
    "db = client['DataProject']\n",
    "collection_stamped = db['vehicules_stamped']\n",
    "\n",
    "pprint.pprint(list(collection_stamped.find({}, {'date': 1})[0:5]))"
   ],
   "metadata": {
    "collapsed": false,
    "pycharm": {
     "name": "#%%\n"
    }
   }
  },
  {
   "cell_type": "markdown",
   "source": [
    "3. Afficher le nombre de passages de véhicules par tranche horaire."
   ],
   "metadata": {
    "collapsed": false
   }
  },
  {
   "cell_type": "code",
   "execution_count": null,
   "outputs": [],
   "source": [
    "from pymongo import MongoClient\n",
    "import datetime\n",
    "\n",
    "client = MongoClient('localhost', 27017)\n",
    "db = client['DataProject']\n",
    "collection_traffic = db['vehicules_stamped']\n",
    "\n",
    "vehicule_par_plage = {'m': 0, 's': 0}\n",
    "for trafic in collection_traffic.find():\n",
    "    date = datetime.datetime.strptime(trafic['date'], \"%d/%m/%Y %Hh%Mm\")\n",
    "    if datetime.time(7, 0, 0, 0) <= date.time() < datetime.time(10, 0, 0, 0):\n",
    "        vehicule_par_plage['m'] += trafic['nb_vehicules']\n",
    "    else:\n",
    "        vehicule_par_plage['s'] += trafic['nb_vehicules']\n",
    "\n",
    "print(vehicule_par_plage)\n"
   ],
   "metadata": {
    "collapsed": false,
    "pycharm": {
     "name": "#%%\n"
    }
   }
  }
 ],
 "metadata": {
  "kernelspec": {
   "display_name": "Python 3",
   "language": "python",
   "name": "python3"
  },
  "language_info": {
   "codemirror_mode": {
    "name": "ipython",
    "version": 2
   },
   "file_extension": ".py",
   "mimetype": "text/x-python",
   "name": "python",
   "nbconvert_exporter": "python",
   "pygments_lexer": "ipython2",
   "version": "2.7.6"
  }
 },
 "nbformat": 4,
 "nbformat_minor": 0
}