{
 "cells": [
  {
   "cell_type": "markdown",
   "source": [
    "# 1. Identification du problème\n",
    "\n",
    "Voici le sujet de ce projet :\n",
    "<blockquote>\n",
    "Le but de cette étude est de générer une tournée de livraison (problème du VRP).\n",
    "\n",
    "Le problème algorithmique consiste donc à calculer sur un réseau routier une tournée permettant de\n",
    "relier entre elles un sous-ensemble de villes, puis de revenir à son point de départ, de manière à minimiser\n",
    " la durée totale de la tournée. Cette optimisation devra tenir compte du trafic prévu sur chaque axe pour\n",
    " les différentes tranches horaires.\n",
    "\n",
    "Vous devrez proposer une méthode issue de la Recherche Opérationnelle pour générer une tournée de\n",
    "livraison correspondant à ce problème. L’implémentation se fera sur une version de base du problème, à\n",
    "laquelle vous pourrez ajouter des contraintes supplémentaires, rendant le problème plus réaliste, mais\n",
    "aussi plus dur à traiter.\n",
    "\n",
    "Par ailleurs, vous devrez effectuer une étude statistique du comportement de votre méthode de résolution,\n",
    "faisant apparaitre ses performances (qualité de solution, temps de convergence). Idéalement, des statistiques\n",
    "prédictives permettent d’extrapoler ce comportement sur des cas d’usages que vos ordinateurs seuls ne pourraient traiter.\n",
    "\n",
    "</blockquote>\n",
    "\n",
    "## 1.1 Reformulation du besoin du projet\n",
    "\n",
    "Comme énoncé ci-dessus, le projet est un problème de routage de véhicules. C'est une extension du problème du voyageur\n",
    "du commerce.\n",
    "\n",
    "Dans sa version la plus basique dite Capacitated VRP (CVRP) ou VRP avec\n",
    "contraintes de capacité, une flotte de véhicules de capacité finie, basée dans un\n",
    "dépôt, doit assurer des tournées entre plusieurs clients (ou villes) ayant demandé\n",
    "chacun une certaine quantité de marchandises. L'ensemble des clients visités par\n",
    "un véhicule désigne la tournée de celui-ci. Chaque client doit être desservi une\n",
    "et une seule fois et chaque tournée commence et se termine au dépôt.\n",
    "\n",
    "Le besoin du projet est de minimiser le coût total, c'est à dire la somme des distances\n",
    "ou des temps de parcours des tournées, tout en respectant les contraintes que l'on peut ajouter.\n",
    "\n",
    "## 1.2 Rappel des objectifs de l’étude\n",
    "\n",
    "L'objectif principale que l'on peut aussi qualifier de besoin est de trouver le chemin le plus court afin de relier tous\n",
    "les points de livraison.\n",
    "\n",
    "Néanmoins, plusieurs objectifs viennent s'ajouter :\n",
    "- Gérer le nombre de camion qui peut être limité\n",
    "- Prendre en compte le trafic sur la route\n",
    "\n",
    "\n",
    "## 1.3 Choix du problème à traiter\n",
    "\n",
    "Comme écrit ci-dessus, nous choississons le problème VRP. Ce dernier ressemble beaucoup à notre sujet. Le besoin\n",
    "d'optimisation est le même et les objectifs se rejoignent. De plus, les contraintes sont communes avec celles de notre\n",
    "sujet. Les pistes d'optimisations et les algorithmes permettant de résoudre ce problème sont déjà présents. On peut, par\n",
    "exemple, citer les algorithmes génétiques en métaheuristiques qui ont été appliqué à ce problème.\n",
    "\n",
    "## 1.4 Choix des contraintes\n",
    "\n",
    "Voici les différents contraintes, nous ne les implémenterons pas forcément. En fonction de notre avancement, elles seront\n",
    "utilisée ou non. La liste des contraintes est la suivante :\n",
    "- contraintes de capacité : Les véhicules ont une capacité d'emport limitée (quantité, taille, poids, etc.) ;\n",
    "- contraintes liées aux ressources et aux clients : disponibilité, localisation, compétences requises, etc. ;\n",
    "- tournées de véhicules avec fenêtre de temps : Pour chaque client on impose une fenêtre de temps dans laquelle la\n",
    "livraison doit être effectuée ;\n",
    "- tournées de véhicules avec collecte et livraison : Un certain nombre de marchandises doivent être déplacées de sites\n",
    "de collecte vers des sites de livraisons.\n",
    "- contrainte du nombre de véhicule disponible simultanément."
   ],
   "metadata": {
    "collapsed": false
   }
  }
 ],
 "metadata": {
  "kernelspec": {
   "display_name": "Python 3",
   "language": "python",
   "name": "python3"
  },
  "language_info": {
   "codemirror_mode": {
    "name": "ipython",
    "version": 2
   },
   "file_extension": ".py",
   "mimetype": "text/x-python",
   "name": "python",
   "nbconvert_exporter": "python",
   "pygments_lexer": "ipython2",
   "version": "2.7.6"
  }
 },
 "nbformat": 4,
 "nbformat_minor": 0
}